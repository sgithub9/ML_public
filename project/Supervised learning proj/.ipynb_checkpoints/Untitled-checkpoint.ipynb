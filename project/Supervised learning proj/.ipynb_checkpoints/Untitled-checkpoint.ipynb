{
 "cells": [
  {
   "cell_type": "code",
   "execution_count": 1,
   "metadata": {},
   "outputs": [],
   "source": [
    "# importing the required packages/libraries\n",
    "import pandas as pd\n",
    "import math\n",
    "import numpy as np"
   ]
  },
  {
   "cell_type": "code",
   "execution_count": 11,
   "metadata": {},
   "outputs": [
    {
     "name": "stdout",
     "output_type": "stream",
     "text": [
      "[[25]\n",
      " [45]\n",
      " [39]\n",
      " ...\n",
      " [63]\n",
      " [65]\n",
      " [28]]\n"
     ]
    }
   ],
   "source": [
    "dataset = pd.read_csv('Bank_Personal_Loan_Modelling.csv')\n",
    "del dataset['ID']\n",
    "dataset.head()\n",
    "a = dataset.iloc[:, [0]].values\n",
    "print(a)"
   ]
  },
  {
   "cell_type": "code",
   "execution_count": 37,
   "metadata": {},
   "outputs": [],
   "source": [
    "X = dataset.iloc[:, [0,1,2,3,4,5,6,7,9,10,11,12]].values #all columns except 'Personal Loan'\n",
    "Y = dataset.iloc[:, 8].values"
   ]
  },
  {
   "cell_type": "code",
   "execution_count": 43,
   "metadata": {},
   "outputs": [
    {
     "data": {
      "text/plain": [
       "array([[2.5000e+01, 1.0000e+00, 4.9000e+01, 9.1107e+04, 4.0000e+00,\n",
       "        1.6000e+00, 1.0000e+00, 0.0000e+00, 1.0000e+00, 0.0000e+00,\n",
       "        0.0000e+00, 0.0000e+00]])"
      ]
     },
     "execution_count": 43,
     "metadata": {},
     "output_type": "execute_result"
    }
   ],
   "source": [
    "dataset.iloc[0:1, [0,1,2,3,4,5,6,7,9,10,11,12]].values"
   ]
  },
  {
   "cell_type": "code",
   "execution_count": 49,
   "metadata": {},
   "outputs": [],
   "source": [
    "from sklearn.preprocessing import StandardScaler\n",
    "from sklearn.naive_bayes import GaussianNB\n",
    "from sklearn import model_selection\n",
    "standardScaler = StandardScaler()\n",
    "X = standardScaler.fit_transform(X)\n",
    "X_train, X_test, Y_train, Y_test = model_selection.train_test_split(X, Y, test_size = 0.3, random_state =1)"
   ]
  },
  {
   "cell_type": "code",
   "execution_count": 39,
   "metadata": {},
   "outputs": [
    {
     "data": {
      "text/plain": [
       "GaussianNB(priors=None, var_smoothing=1e-09)"
      ]
     },
     "execution_count": 39,
     "metadata": {},
     "output_type": "execute_result"
    }
   ],
   "source": [
    "# Fitting Naive Bayes algorithm to the Training set\n",
    "classifier = GaussianNB()\n",
    "classifier.fit(X, Y)\n"
   ]
  },
  {
   "cell_type": "code",
   "execution_count": 57,
   "metadata": {},
   "outputs": [
    {
     "name": "stdout",
     "output_type": "stream",
     "text": [
      "              precision    recall  f1-score   support\n",
      "\n",
      "           0       0.95      0.91      0.93      1351\n",
      "           1       0.40      0.56      0.47       149\n",
      "\n",
      "   micro avg       0.87      0.87      0.87      1500\n",
      "   macro avg       0.67      0.73      0.70      1500\n",
      "weighted avg       0.89      0.87      0.88      1500\n",
      "\n",
      "0.8733333333333333\n",
      "[[1227  124]\n",
      " [  66   83]]\n"
     ]
    }
   ],
   "source": [
    "from sklearn import metrics \n",
    "testData = standardScaler.transform(X_test)    \n",
    "prediction = classifier.predict(testData)\n",
    "#print(prediction)# prediction where 1 represents that the personal loan could be accepted by the customer\n",
    "print(metrics.classification_report(Y_test, prediction))\n",
    "print(metrics.accuracy_score(Y_test, prediction))\n",
    "print(metrics.confusion_matrix(Y_test, prediction))"
   ]
  },
  {
   "cell_type": "code",
   "execution_count": null,
   "metadata": {},
   "outputs": [],
   "source": []
  }
 ],
 "metadata": {
  "kernelspec": {
   "display_name": "Python 3",
   "language": "python",
   "name": "python3"
  },
  "language_info": {
   "codemirror_mode": {
    "name": "ipython",
    "version": 3
   },
   "file_extension": ".py",
   "mimetype": "text/x-python",
   "name": "python",
   "nbconvert_exporter": "python",
   "pygments_lexer": "ipython3",
   "version": "3.7.3"
  }
 },
 "nbformat": 4,
 "nbformat_minor": 2
}
